{
  "nbformat": 4,
  "nbformat_minor": 0,
  "metadata": {
    "colab": {
      "provenance": [],
      "gpuType": "T4"
    },
    "kernelspec": {
      "name": "python3",
      "display_name": "Python 3"
    },
    "language_info": {
      "name": "python"
    },
    "accelerator": "GPU"
  },
  "cells": [
    {
      "cell_type": "code",
      "execution_count": null,
      "metadata": {
        "colab": {
          "base_uri": "https://localhost:8080/"
        },
        "id": "_TqejwAd6CTS",
        "outputId": "acc52ece-a603-46a3-8c0e-7c60602dac7a"
      },
      "outputs": [
        {
          "output_type": "stream",
          "name": "stdout",
          "text": [
            "--2024-06-19 03:39:46--  https://raw.githubusercontent.com/karpathy/char-rnn/master/data/tinyshakespeare/input.txt\n",
            "Resolving raw.githubusercontent.com (raw.githubusercontent.com)... 185.199.108.133, 185.199.109.133, 185.199.110.133, ...\n",
            "Connecting to raw.githubusercontent.com (raw.githubusercontent.com)|185.199.108.133|:443... connected.\n",
            "HTTP request sent, awaiting response... 200 OK\n",
            "Length: 1115394 (1.1M) [text/plain]\n",
            "Saving to: ‘input.txt’\n",
            "\n",
            "\rinput.txt             0%[                    ]       0  --.-KB/s               \rinput.txt           100%[===================>]   1.06M  --.-KB/s    in 0.04s   \n",
            "\n",
            "2024-06-19 03:39:46 (24.5 MB/s) - ‘input.txt’ saved [1115394/1115394]\n",
            "\n"
          ]
        }
      ],
      "source": [
        "# We always start with a dataset to train on. Let's download the tiny shakespeare dataset\n",
        "!wget https://raw.githubusercontent.com/karpathy/char-rnn/master/data/tinyshakespeare/input.txt"
      ]
    },
    {
      "cell_type": "code",
      "source": [
        "with open('input.txt','r',encoding='utf-8') as f:\n",
        "  text=f.read()"
      ],
      "metadata": {
        "id": "lFVe_tJP6DQH"
      },
      "execution_count": null,
      "outputs": []
    },
    {
      "cell_type": "code",
      "source": [
        "#now we find the chars and vocab_size\n",
        "chars=sorted(list(set(text)))\n",
        "vocab_size=len(chars)"
      ],
      "metadata": {
        "id": "aGHrFURJ6N9o"
      },
      "execution_count": null,
      "outputs": []
    },
    {
      "cell_type": "code",
      "source": [
        "# now we create mappings for char to int and int to char\n",
        "stoi={char:i for i,char in enumerate(chars)}\n",
        "itos={i:char for char,i in stoi.items()}\n",
        "encode=lambda s:[stoi[c] for c in s]\n",
        "decode=lambda l:[itos[i] for i in l]"
      ],
      "metadata": {
        "id": "L0ZhGB1o6P01"
      },
      "execution_count": null,
      "outputs": []
    },
    {
      "cell_type": "code",
      "source": [
        "#Encode the entire text and store it in torch.tensor\n",
        "import torch\n",
        "data=torch.tensor(encode(text),dtype=torch.long)"
      ],
      "metadata": {
        "id": "9efyZKkD7YQn"
      },
      "execution_count": null,
      "outputs": []
    },
    {
      "cell_type": "code",
      "source": [
        "#Splitting the data into train and test\n",
        "n=int(0.9*len(data))\n",
        "train_data=data[:n]\n",
        "val_data=data[n:]"
      ],
      "metadata": {
        "id": "s34yH4jn7u38"
      },
      "execution_count": null,
      "outputs": []
    },
    {
      "cell_type": "code",
      "source": [
        "torch.manual_seed(1337)\n",
        "batch_size=4\n",
        "block_size=8\n",
        "\n",
        "def get_batch(split):\n",
        "  # generate small batch of data of input x and output y\n",
        "  data=train_data if split=='train' else val_data\n",
        "  ix=torch.randint(0,len(data)-block_size,(batch_size,))\n",
        "  xb=torch.stack([data[f:f+block_size] for f in ix])\n",
        "  yb=torch.stack([data[f+1:f+block_size+1] for f in ix])\n",
        "  return xb,yb\n",
        "xb,yb=get_batch('train')\n",
        "xb\n",
        "yb"
      ],
      "metadata": {
        "colab": {
          "base_uri": "https://localhost:8080/"
        },
        "id": "rxImtXHk8Mx9",
        "outputId": "92c280b8-dc1a-4a02-9460-e5c0e2424885"
      },
      "execution_count": null,
      "outputs": [
        {
          "output_type": "execute_result",
          "data": {
            "text/plain": [
              "tensor([[43, 58,  5, 57,  1, 46, 43, 39],\n",
              "        [53, 56,  1, 58, 46, 39, 58,  1],\n",
              "        [58,  1, 58, 46, 39, 58,  1, 46],\n",
              "        [17, 27, 10,  0, 21,  1, 54, 39]])"
            ]
          },
          "metadata": {},
          "execution_count": 7
        }
      ]
    },
    {
      "cell_type": "code",
      "source": [
        "for b in range(batch_size): # batch dimension\n",
        "    for t in range(block_size): # time dimension\n",
        "        context = xb[b, :t+1]\n",
        "        target = yb[b,t]\n",
        "        print(f\"when input is {context.tolist()} the target: {target}\")"
      ],
      "metadata": {
        "colab": {
          "base_uri": "https://localhost:8080/"
        },
        "id": "qYLGIrCt-Rwh",
        "outputId": "c098a14a-9ed9-420a-ca1c-d66cba6801fb"
      },
      "execution_count": null,
      "outputs": [
        {
          "output_type": "stream",
          "name": "stdout",
          "text": [
            "when input is [24] the target: 43\n",
            "when input is [24, 43] the target: 58\n",
            "when input is [24, 43, 58] the target: 5\n",
            "when input is [24, 43, 58, 5] the target: 57\n",
            "when input is [24, 43, 58, 5, 57] the target: 1\n",
            "when input is [24, 43, 58, 5, 57, 1] the target: 46\n",
            "when input is [24, 43, 58, 5, 57, 1, 46] the target: 43\n",
            "when input is [24, 43, 58, 5, 57, 1, 46, 43] the target: 39\n",
            "when input is [44] the target: 53\n",
            "when input is [44, 53] the target: 56\n",
            "when input is [44, 53, 56] the target: 1\n",
            "when input is [44, 53, 56, 1] the target: 58\n",
            "when input is [44, 53, 56, 1, 58] the target: 46\n",
            "when input is [44, 53, 56, 1, 58, 46] the target: 39\n",
            "when input is [44, 53, 56, 1, 58, 46, 39] the target: 58\n",
            "when input is [44, 53, 56, 1, 58, 46, 39, 58] the target: 1\n",
            "when input is [52] the target: 58\n",
            "when input is [52, 58] the target: 1\n",
            "when input is [52, 58, 1] the target: 58\n",
            "when input is [52, 58, 1, 58] the target: 46\n",
            "when input is [52, 58, 1, 58, 46] the target: 39\n",
            "when input is [52, 58, 1, 58, 46, 39] the target: 58\n",
            "when input is [52, 58, 1, 58, 46, 39, 58] the target: 1\n",
            "when input is [52, 58, 1, 58, 46, 39, 58, 1] the target: 46\n",
            "when input is [25] the target: 17\n",
            "when input is [25, 17] the target: 27\n",
            "when input is [25, 17, 27] the target: 10\n",
            "when input is [25, 17, 27, 10] the target: 0\n",
            "when input is [25, 17, 27, 10, 0] the target: 21\n",
            "when input is [25, 17, 27, 10, 0, 21] the target: 1\n",
            "when input is [25, 17, 27, 10, 0, 21, 1] the target: 54\n",
            "when input is [25, 17, 27, 10, 0, 21, 1, 54] the target: 39\n"
          ]
        }
      ]
    },
    {
      "cell_type": "code",
      "source": [
        "import torch\n",
        "import torch.nn as nn\n",
        "from torch.nn import functional as F\n"
      ],
      "metadata": {
        "id": "DAjWaE5p-3oU"
      },
      "execution_count": null,
      "outputs": []
    },
    {
      "cell_type": "code",
      "source": [
        "torch.manual_seed(1337)\n",
        "class BigramLanguageModel(nn.Module):\n",
        "\n",
        "    def __init__(self, vocab_size):\n",
        "      super().__init__()\n",
        "      #make embedding layer\n",
        "      self.token_embedding_layer=nn.Embedding(vocab_size,vocab_size)\n",
        "\n",
        "\n",
        "    def forward(self, idx, targets=None):\n",
        "      logits=self.token_embedding_layer(idx) #B T C\n",
        "      if(targets==None):\n",
        "        loss=None\n",
        "      else:\n",
        "        B,T,C=logits.shape\n",
        "        logits=logits.view(B*T,C)\n",
        "        targets=targets.view(B*T)\n",
        "        loss=F.cross_entropy(logits,targets)\n",
        "      return logits,loss\n",
        "\n",
        "\n",
        "    def generate(self, idx, max_new_tokens):\n",
        "      # idx is (B,T) array of indices in the current Context\n",
        "      for _ in range(max_new_tokens):\n",
        "        logits,loss=self(idx)\n",
        "        logits=logits[:,-1,:]\n",
        "        probs = F.softmax(logits, dim=-1) # (B, C)\n",
        "        idx_next=torch.multinomial(probs,num_samples=1) # (B , 1)\n",
        "        idx=torch.cat((idx,idx_next),dim=1) #(B, T+1)\n",
        "      return idx\n",
        "m = BigramLanguageModel(vocab_size)\n",
        "logits, loss = m(xb, yb)\n",
        "print(logits.shape)\n",
        "print(loss)\n",
        "\n",
        "print(''.join(decode(m.generate(idx = torch.zeros((1, 1), dtype=torch.long), max_new_tokens=100)[0].tolist())))\n",
        "\n"
      ],
      "metadata": {
        "colab": {
          "base_uri": "https://localhost:8080/"
        },
        "id": "EFdVjumjC-d4",
        "outputId": "008703f4-731d-4b82-d429-8bdd74987161"
      },
      "execution_count": null,
      "outputs": [
        {
          "output_type": "stream",
          "name": "stdout",
          "text": [
            "torch.Size([32, 65])\n",
            "tensor(4.8786, grad_fn=<NllLossBackward0>)\n",
            "\n",
            "Sr?qP-QWktXoL&jLDJgOLVz'RIoDqHdhsV&vLLxatjscMpwLERSPyao.qfzs$Ys$zF-w,;eEkzxjgCKFChs!iWW.ObzDnxA Ms$3\n"
          ]
        }
      ]
    },
    {
      "cell_type": "code",
      "source": [
        "# create a PyTorch optimizer\n",
        "optimizer = torch.optim.AdamW(m.parameters(), lr=1e-3)"
      ],
      "metadata": {
        "id": "wWGhLXcKHh6I"
      },
      "execution_count": null,
      "outputs": []
    },
    {
      "cell_type": "code",
      "source": [
        "batch_size=32\n",
        "r=0\n",
        "\n",
        "for i in range(10000):\n",
        "  xb,yb=get_batch('train')\n",
        "  logits,loss=m(xb,yb)\n",
        "  optimizer.zero_grad(set_to_none=True)\n",
        "  loss.backward()\n",
        "  optimizer.step()\n",
        "  r+=1\n",
        "  if(i%100==0):\n",
        "    print(f'{i} {loss.item()}',end=\"\\n\")\n",
        "print(loss.item())"
      ],
      "metadata": {
        "colab": {
          "base_uri": "https://localhost:8080/"
        },
        "id": "xgB2-l6OJUyW",
        "outputId": "c0dc0ffe-73b8-4af0-ceb5-5977db57dd42"
      },
      "execution_count": null,
      "outputs": [
        {
          "output_type": "stream",
          "name": "stdout",
          "text": [
            "0 4.704006195068359\n",
            "100 4.658433437347412\n",
            "200 4.470171928405762\n",
            "300 4.320702075958252\n",
            "400 4.252743721008301\n",
            "500 4.241008758544922\n",
            "600 4.161406517028809\n",
            "700 4.044336795806885\n",
            "800 4.091874122619629\n",
            "900 3.7458465099334717\n",
            "1000 3.7031264305114746\n",
            "1100 3.7115283012390137\n",
            "1200 3.6330997943878174\n",
            "1300 3.422212600708008\n",
            "1400 3.4295449256896973\n",
            "1500 3.4233598709106445\n",
            "1600 3.3018524646759033\n",
            "1700 3.283510446548462\n",
            "1800 3.188281774520874\n",
            "1900 3.2000553607940674\n",
            "2000 3.1371781826019287\n",
            "2100 3.0028276443481445\n",
            "2200 3.058077812194824\n",
            "2300 2.958632707595825\n",
            "2400 2.9813663959503174\n",
            "2500 2.9196817874908447\n",
            "2600 2.8414011001586914\n",
            "2700 2.8905837535858154\n",
            "2800 2.9735329151153564\n",
            "2900 2.808624029159546\n",
            "3000 2.776794672012329\n",
            "3100 2.748556137084961\n",
            "3200 2.687368392944336\n",
            "3300 2.682086706161499\n",
            "3400 2.688863754272461\n",
            "3500 2.809856653213501\n",
            "3600 2.6931400299072266\n",
            "3700 2.665353298187256\n",
            "3800 2.632939100265503\n",
            "3900 2.75382924079895\n",
            "4000 2.5844571590423584\n",
            "4100 2.630505323410034\n",
            "4200 2.6259851455688477\n",
            "4300 2.5507774353027344\n",
            "4400 2.5834596157073975\n",
            "4500 2.6057393550872803\n",
            "4600 2.6198649406433105\n",
            "4700 2.5730926990509033\n",
            "4800 2.5133121013641357\n",
            "4900 2.608804941177368\n",
            "5000 2.5105180740356445\n",
            "5100 2.574131727218628\n",
            "5200 2.4975621700286865\n",
            "5300 2.525254487991333\n",
            "5400 2.4852945804595947\n",
            "5500 2.5480153560638428\n",
            "5600 2.577272415161133\n",
            "5700 2.602153778076172\n",
            "5800 2.3584301471710205\n",
            "5900 2.448211908340454\n",
            "6000 2.531585931777954\n",
            "6100 2.497115135192871\n",
            "6200 2.446481943130493\n",
            "6300 2.4474494457244873\n",
            "6400 2.5307929515838623\n",
            "6500 2.4708240032196045\n",
            "6600 2.5558059215545654\n",
            "6700 2.469895839691162\n",
            "6800 2.605414867401123\n",
            "6900 2.5706934928894043\n",
            "7000 2.504757881164551\n",
            "7100 2.444789171218872\n",
            "7200 2.5223405361175537\n",
            "7300 2.4506444931030273\n",
            "7400 2.410496234893799\n",
            "7500 2.400172472000122\n",
            "7600 2.4295127391815186\n",
            "7700 2.424211025238037\n",
            "7800 2.494037389755249\n",
            "7900 2.438490390777588\n",
            "8000 2.4696717262268066\n",
            "8100 2.4945294857025146\n",
            "8200 2.4096617698669434\n",
            "8300 2.6117146015167236\n",
            "8400 2.4675140380859375\n",
            "8500 2.4209394454956055\n",
            "8600 2.4633748531341553\n",
            "8700 2.4416558742523193\n",
            "8800 2.634512186050415\n",
            "8900 2.3378663063049316\n",
            "9000 2.4838879108428955\n",
            "9100 2.534738779067993\n",
            "9200 2.58534574508667\n",
            "9300 2.3732097148895264\n",
            "9400 2.4463818073272705\n",
            "9500 2.407996892929077\n",
            "9600 2.525811195373535\n",
            "9700 2.521479845046997\n",
            "9800 2.4382166862487793\n",
            "9900 2.4321024417877197\n",
            "2.5727508068084717\n"
          ]
        }
      ]
    },
    {
      "cell_type": "code",
      "source": [
        "print(''.join(decode(m.generate(idx = torch.zeros((1, 1), dtype=torch.long), max_new_tokens=500)[0].tolist())))"
      ],
      "metadata": {
        "colab": {
          "base_uri": "https://localhost:8080/"
        },
        "id": "58NJx3PELmCN",
        "outputId": "b43ca1b8-a676-4c47-c0a9-4326c96eb1f5"
      },
      "execution_count": null,
      "outputs": [
        {
          "output_type": "stream",
          "name": "stdout",
          "text": [
            "\n",
            "Iyoteng h hasbe pave pirance\n",
            "Rie hicomyonthar's\n",
            "Plinseard ith henoure wounonthioneir thondy, y heltieiengerofo'dsssit ey\n",
            "KIN d pe wither vouprrouthercc.\n",
            "hathe; d!\n",
            "My hind tt hinig t ouchos tes; st yo hind wotte grotonear 'so it t jod weancotha:\n",
            "h hay.JUCle n prids, r loncave w hollular s O:\n",
            "HIs; ht anjx?\n",
            "\n",
            "DUThinqunt.\n",
            "\n",
            "LaZAnde.\n",
            "athave l.\n",
            "KEONH:\n",
            "ARThanco be y,-hedarwnoddy scace, tridesar, wnl'shenous s ls, theresseys\n",
            "PlorseelapinghiybHen yof GLUCEN t l-t E:\n",
            "I hisgothers je are!-e!\n",
            "QLYotouciullle'z\n"
          ]
        }
      ]
    },
    {
      "cell_type": "markdown",
      "source": [
        "**Mathematical trick for self-attention**"
      ],
      "metadata": {
        "id": "Pjs2cZPdNy-d"
      }
    },
    {
      "cell_type": "code",
      "source": [
        "# toy example illustrating how matrix multiplication can be used for a \"weighted aggregation\"\n",
        "# toy example illustrating how matrix multiplication can be used for a \"weighted aggregation\"\n",
        "torch.manual_seed(42)\n",
        "a = torch.tril(torch.ones(3, 3))\n",
        "a = a / torch.sum(a, 1, keepdim=True)\n",
        "b = torch.randint(0,10,(3,2)).float()\n",
        "c = a @ b\n",
        "print('a=')\n",
        "print(a)\n",
        "print('--')\n",
        "print('b=')\n",
        "print(b)\n",
        "print('--')\n",
        "print('c=')\n",
        "print(c)"
      ],
      "metadata": {
        "colab": {
          "base_uri": "https://localhost:8080/"
        },
        "id": "DHYwxewlN_OM",
        "outputId": "4188830f-708c-4329-9ffb-912e95aa48ba"
      },
      "execution_count": null,
      "outputs": [
        {
          "output_type": "stream",
          "name": "stdout",
          "text": [
            "a=\n",
            "tensor([[1.0000, 0.0000, 0.0000],\n",
            "        [0.5000, 0.5000, 0.0000],\n",
            "        [0.3333, 0.3333, 0.3333]])\n",
            "--\n",
            "b=\n",
            "tensor([[2., 7.],\n",
            "        [6., 4.],\n",
            "        [6., 5.]])\n",
            "--\n",
            "c=\n",
            "tensor([[2.0000, 7.0000],\n",
            "        [4.0000, 5.5000],\n",
            "        [4.6667, 5.3333]])\n"
          ]
        }
      ]
    },
    {
      "cell_type": "code",
      "source": [
        "# consider the following toy example:\n",
        "\n",
        "torch.manual_seed(1337)\n",
        "B,T,C = 4,8,2 # batch, time, channels\n",
        "x = torch.randn(B,T,C)\n",
        "x.shape"
      ],
      "metadata": {
        "colab": {
          "base_uri": "https://localhost:8080/"
        },
        "id": "QDCu27twOGKq",
        "outputId": "f07a57ae-5f7d-4ab5-8412-0d290b46f5ed"
      },
      "execution_count": null,
      "outputs": [
        {
          "output_type": "execute_result",
          "data": {
            "text/plain": [
              "torch.Size([4, 8, 2])"
            ]
          },
          "metadata": {},
          "execution_count": 15
        }
      ]
    },
    {
      "cell_type": "code",
      "source": [
        "# We want x[b,t] = mean_{i<=t} x[b,i]\n",
        "xbow = torch.zeros((B,T,C))\n",
        "for b in range(B):\n",
        "    for t in range(T):\n",
        "        xprev = x[b,:t+1] # (t,C)\n",
        "        xbow[b,t] = torch.mean(xprev, 0)\n"
      ],
      "metadata": {
        "id": "97RIOl-JOJ2e"
      },
      "execution_count": null,
      "outputs": []
    },
    {
      "cell_type": "code",
      "source": [
        "# version 2: using matrix multiply for a weighted aggregation\n",
        "wei = torch.tril(torch.ones(T, T))\n",
        "wei = wei / wei.sum(1, keepdim=True)\n",
        "xbow2 = wei @ x # (B, T, T) @ (B, T, C) ----> (B, T, C)\n",
        "torch.allclose(xbow, xbow2)"
      ],
      "metadata": {
        "colab": {
          "base_uri": "https://localhost:8080/"
        },
        "id": "iMTf9jUdPntd",
        "outputId": "9c2c3e6b-6723-47f2-cd51-8e739616a916"
      },
      "execution_count": null,
      "outputs": [
        {
          "output_type": "execute_result",
          "data": {
            "text/plain": [
              "False"
            ]
          },
          "metadata": {},
          "execution_count": 17
        }
      ]
    },
    {
      "cell_type": "code",
      "source": [
        "a = xbow.view(-1)\n",
        "b = xbow2.view(-1)\n",
        "threshold = 1e-7  # Define a threshold for numerical precision\n",
        "\n",
        "for i in range(a.shape[0]):\n",
        "    if abs(a[i].item() - b[i].item()) > threshold:\n",
        "        print('done', end=' ')"
      ],
      "metadata": {
        "id": "SVBiQGesQIjZ"
      },
      "execution_count": null,
      "outputs": []
    },
    {
      "cell_type": "code",
      "source": [
        "# version 3: use Softmax\n",
        "tril = torch.tril(torch.ones(T, T))\n",
        "wei = torch.zeros((T,T))\n",
        "wei = wei.masked_fill(tril == 0, float('-inf'))\n",
        "wei = F.softmax(wei, dim=-1)\n",
        "xbow3 = wei @ x\n",
        "torch.allclose(xbow, xbow3)\n"
      ],
      "metadata": {
        "colab": {
          "base_uri": "https://localhost:8080/"
        },
        "id": "EEw_6TfzQU12",
        "outputId": "a98a8048-5567-40ad-f168-cd1459080706"
      },
      "execution_count": null,
      "outputs": [
        {
          "output_type": "execute_result",
          "data": {
            "text/plain": [
              "False"
            ]
          },
          "metadata": {},
          "execution_count": 19
        }
      ]
    },
    {
      "cell_type": "code",
      "source": [
        "a = xbow.view(-1)\n",
        "b = xbow3.view(-1)\n",
        "threshold = 1e-7  # Define a threshold for numerical precision\n",
        "\n",
        "for i in range(a.shape[0]):\n",
        "    if abs(a[i].item() - b[i].item()) > threshold:\n",
        "        print('done', end=' ')"
      ],
      "metadata": {
        "id": "Ydulaln1Rhp-"
      },
      "execution_count": null,
      "outputs": []
    },
    {
      "cell_type": "code",
      "source": [
        "matrix=torch.randint(0,10,(4,5,3))"
      ],
      "metadata": {
        "id": "JusSarucRlKK"
      },
      "execution_count": null,
      "outputs": []
    },
    {
      "cell_type": "code",
      "source": [
        "matrix"
      ],
      "metadata": {
        "colab": {
          "base_uri": "https://localhost:8080/"
        },
        "id": "uHygEoKkVu27",
        "outputId": "afad9a09-a0f4-4d35-89c6-0b44ca90e78b"
      },
      "execution_count": null,
      "outputs": [
        {
          "output_type": "execute_result",
          "data": {
            "text/plain": [
              "tensor([[[8, 6, 5],\n",
              "         [2, 4, 4],\n",
              "         [7, 4, 5],\n",
              "         [0, 5, 3],\n",
              "         [8, 9, 2]],\n",
              "\n",
              "        [[7, 3, 9],\n",
              "         [4, 1, 6],\n",
              "         [8, 6, 9],\n",
              "         [9, 2, 8],\n",
              "         [9, 1, 6]],\n",
              "\n",
              "        [[1, 9, 0],\n",
              "         [1, 9, 8],\n",
              "         [4, 4, 3],\n",
              "         [6, 5, 9],\n",
              "         [8, 6, 9]],\n",
              "\n",
              "        [[4, 8, 3],\n",
              "         [2, 6, 2],\n",
              "         [2, 1, 7],\n",
              "         [3, 8, 0],\n",
              "         [1, 2, 7]]])"
            ]
          },
          "metadata": {},
          "execution_count": 22
        }
      ]
    },
    {
      "cell_type": "code",
      "source": [
        "matrix.transpose(2,0)"
      ],
      "metadata": {
        "colab": {
          "base_uri": "https://localhost:8080/"
        },
        "id": "A_3rbxc1Vv0C",
        "outputId": "ba37c204-459c-4e6d-d63f-2ba45cfc961f"
      },
      "execution_count": null,
      "outputs": [
        {
          "output_type": "execute_result",
          "data": {
            "text/plain": [
              "tensor([[[8, 7, 1, 4],\n",
              "         [2, 4, 1, 2],\n",
              "         [7, 8, 4, 2],\n",
              "         [0, 9, 6, 3],\n",
              "         [8, 9, 8, 1]],\n",
              "\n",
              "        [[6, 3, 9, 8],\n",
              "         [4, 1, 9, 6],\n",
              "         [4, 6, 4, 1],\n",
              "         [5, 2, 5, 8],\n",
              "         [9, 1, 6, 2]],\n",
              "\n",
              "        [[5, 9, 0, 3],\n",
              "         [4, 6, 8, 2],\n",
              "         [5, 9, 3, 7],\n",
              "         [3, 8, 9, 0],\n",
              "         [2, 6, 9, 7]]])"
            ]
          },
          "metadata": {},
          "execution_count": 23
        }
      ]
    },
    {
      "cell_type": "code",
      "source": [
        "matrix.transpose(0,1)"
      ],
      "metadata": {
        "colab": {
          "base_uri": "https://localhost:8080/"
        },
        "id": "o7vUObWIVyx0",
        "outputId": "0ddeb673-e35a-46dc-fce2-f9bdb794bb20"
      },
      "execution_count": null,
      "outputs": [
        {
          "output_type": "execute_result",
          "data": {
            "text/plain": [
              "tensor([[[8, 6, 5],\n",
              "         [7, 3, 9],\n",
              "         [1, 9, 0],\n",
              "         [4, 8, 3]],\n",
              "\n",
              "        [[2, 4, 4],\n",
              "         [4, 1, 6],\n",
              "         [1, 9, 8],\n",
              "         [2, 6, 2]],\n",
              "\n",
              "        [[7, 4, 5],\n",
              "         [8, 6, 9],\n",
              "         [4, 4, 3],\n",
              "         [2, 1, 7]],\n",
              "\n",
              "        [[0, 5, 3],\n",
              "         [9, 2, 8],\n",
              "         [6, 5, 9],\n",
              "         [3, 8, 0]],\n",
              "\n",
              "        [[8, 9, 2],\n",
              "         [9, 1, 6],\n",
              "         [8, 6, 9],\n",
              "         [1, 2, 7]]])"
            ]
          },
          "metadata": {},
          "execution_count": 24
        }
      ]
    },
    {
      "cell_type": "code",
      "source": [
        "import torch\n",
        "import torch.nn as nn\n",
        "import torch.nn.functional as F"
      ],
      "metadata": {
        "id": "OX5SYP2GWFX8"
      },
      "execution_count": null,
      "outputs": []
    },
    {
      "cell_type": "code",
      "source": [
        "# hyperparameters\n",
        "batch_size = 16 # how many independent sequences will we process in parallel?\n",
        "block_size = 32 # what is the maximum context length for predictions?\n",
        "max_iters = 5000\n",
        "eval_interval = 100\n",
        "learning_rate = 1e-3\n",
        "device = 'cuda' if torch.cuda.is_available() else 'cpu'\n",
        "eval_iters = 200\n",
        "n_embd = 64\n",
        "n_head = 4\n",
        "n_layer = 4\n",
        "dropout = 0.1"
      ],
      "metadata": {
        "id": "ClhTznEOtZAP"
      },
      "execution_count": null,
      "outputs": []
    },
    {
      "cell_type": "code",
      "source": [
        "torch.manual_seed(1337)"
      ],
      "metadata": {
        "colab": {
          "base_uri": "https://localhost:8080/"
        },
        "id": "y5DjN9rKuN8s",
        "outputId": "f4e30666-61f7-4ef7-938d-e3acdb71fd5e"
      },
      "execution_count": null,
      "outputs": [
        {
          "output_type": "execute_result",
          "data": {
            "text/plain": [
              "<torch._C.Generator at 0x7b82db7ba770>"
            ]
          },
          "metadata": {},
          "execution_count": 103
        }
      ]
    },
    {
      "cell_type": "code",
      "source": [
        "!wget https://raw.githubusercontent.com/karpathy/char-rnn/master/data/tinyshakespeare/input.txt\n",
        "with open('input.txt', 'r', encoding='utf-8') as f:\n",
        "    text = f.read()\n"
      ],
      "metadata": {
        "colab": {
          "base_uri": "https://localhost:8080/"
        },
        "id": "T2aUSAVbuSfU",
        "outputId": "69d92253-b8eb-4f93-d4ba-ca81f5ecc4b3"
      },
      "execution_count": null,
      "outputs": [
        {
          "output_type": "stream",
          "name": "stdout",
          "text": [
            "--2024-06-19 04:55:35--  https://raw.githubusercontent.com/karpathy/char-rnn/master/data/tinyshakespeare/input.txt\n",
            "Resolving raw.githubusercontent.com (raw.githubusercontent.com)... 185.199.110.133, 185.199.111.133, 185.199.108.133, ...\n",
            "Connecting to raw.githubusercontent.com (raw.githubusercontent.com)|185.199.110.133|:443... connected.\n",
            "HTTP request sent, awaiting response... 200 OK\n",
            "Length: 1115394 (1.1M) [text/plain]\n",
            "Saving to: ‘input.txt.4’\n",
            "\n",
            "\rinput.txt.4           0%[                    ]       0  --.-KB/s               \rinput.txt.4         100%[===================>]   1.06M  --.-KB/s    in 0.03s   \n",
            "\n",
            "2024-06-19 04:55:35 (31.7 MB/s) - ‘input.txt.4’ saved [1115394/1115394]\n",
            "\n"
          ]
        }
      ]
    },
    {
      "cell_type": "code",
      "source": [
        "chars = sorted(list(set(text)))\n",
        "vocab_size = len(chars)\n",
        "# create a mapping from characters to integers\n",
        "stoi = { ch:i for i,ch in enumerate(chars) }\n",
        "itos = { i:ch for i,ch in enumerate(chars) }\n",
        "encode = lambda s: [stoi[c] for c in s] # encoder: take a string, output a list of integers\n",
        "decode = lambda l: ''.join([itos[i] for i in l]) # decoder: take a list of integers, output a string\n",
        "\n",
        "# Train and test splits\n",
        "data = torch.tensor(encode(text), dtype=torch.long)\n",
        "n = int(0.9*len(data)) # first 90% will be train, rest val\n",
        "train_data = data[:n]\n",
        "val_data = data[n:]\n"
      ],
      "metadata": {
        "id": "B95B73B5uUkd"
      },
      "execution_count": null,
      "outputs": []
    },
    {
      "cell_type": "code",
      "source": [
        "# data loading\n",
        "def get_batch(split):\n",
        "    # generate a small batch of data of inputs x and targets y\n",
        "    data = train_data if split == 'train' else val_data\n",
        "    ix = torch.randint(len(data) - block_size, (batch_size,))\n",
        "    x = torch.stack([data[i:i+block_size] for i in ix])\n",
        "    y = torch.stack([data[i+1:i+block_size+1] for i in ix])\n",
        "    x, y = x.to(device), y.to(device)\n",
        "    return x, y\n"
      ],
      "metadata": {
        "id": "EBj3eywNuarf"
      },
      "execution_count": null,
      "outputs": []
    },
    {
      "cell_type": "code",
      "source": [
        "@torch.no_grad()\n",
        "def estimate_loss():\n",
        "    out = {}\n",
        "    model.eval()\n",
        "    for split in ['train', 'val']:\n",
        "        losses = torch.zeros(eval_iters)\n",
        "        for k in range(eval_iters):\n",
        "            X, Y = get_batch(split)\n",
        "            logits, loss = model(X, Y)\n",
        "            losses[k] = loss.item()\n",
        "        out[split] = losses.mean()\n",
        "    model.train()\n",
        "    return out\n"
      ],
      "metadata": {
        "id": "e9wkAzZtueqp"
      },
      "execution_count": null,
      "outputs": []
    },
    {
      "cell_type": "code",
      "source": [
        "class Head(nn.Module):\n",
        "  def __init__(self,head_size):\n",
        "    super().__init__()\n",
        "    #1)Make a key Query and Value 2)tril and dropout\n",
        "    self.key=nn.Linear(n_embd,head_size,bias=False) #   64 x 16\n",
        "    self.query=nn.Linear(n_embd,head_size,bias=False)\n",
        "    self.value=nn.Linear(n_embd,head_size,bias=False)\n",
        "    self.register_buffer('tril', torch.tril(torch.ones(block_size, block_size)))\n",
        "    self.dropout = nn.Dropout(dropout)\n",
        "\n",
        "  def forward(self,x):\n",
        "    B,T,C=x.shape\n",
        "    #1)find key and query 2) find weights 3) find values 4)find output\n",
        "    k=self.key(x) # B , T, C\n",
        "    q=self.query(x) # B,T,C\n",
        "    v=self.value(x)# B, T, C\n",
        "    wei=k @ q.transpose(-2,-1) * C**-0.5 # B T T\n",
        "    wei = wei.masked_fill(self.tril[:T, :T] == 0, float('-inf'))\n",
        "    wei= F.softmax(wei,dim=-1)\n",
        "    wei=self.dropout(wei)\n",
        "    out=wei @ v # B T T x B T H_size\n",
        "    return out"
      ],
      "metadata": {
        "id": "gRPlrbefuj_i"
      },
      "execution_count": null,
      "outputs": []
    },
    {
      "cell_type": "code",
      "source": [
        "class MultiHeadAttention(nn.Module):\n",
        "\n",
        "  def __init__(self,num_heads,head_size):\n",
        "    super().__init__()\n",
        "    self.heads=nn.ModuleList([Head(head_size) for _ in range(num_heads)])\n",
        "    self.proj=nn.Linear(n_embd,n_embd)\n",
        "    self.dropout=nn.Dropout(dropout)\n",
        "\n",
        "  def forward(self,x):\n",
        "    out=torch.cat([h(x) for h in self.heads],dim=-1)\n",
        "    out=self.dropout(self.proj(out))\n",
        "    return out"
      ],
      "metadata": {
        "id": "pxDqWice4Ksk"
      },
      "execution_count": null,
      "outputs": []
    },
    {
      "cell_type": "code",
      "source": [
        "class FeedForward(nn.Module):\n",
        "  def __init__(self,n_embd):\n",
        "    super().__init__();\n",
        "    self.net=nn.Sequential(\n",
        "        nn.Linear(n_embd,4*n_embd),\n",
        "        nn.ReLU(),\n",
        "        nn.Linear(4*n_embd,n_embd),\n",
        "        nn.Dropout(dropout)\n",
        "    )\n",
        "  def forward(self,x):\n",
        "    return self.net(x)"
      ],
      "metadata": {
        "id": "WgJIV-r_5tdg"
      },
      "execution_count": null,
      "outputs": []
    },
    {
      "cell_type": "code",
      "source": [
        "class Block(nn.Module):\n",
        "  def __init__(self,n_embd,n_head):\n",
        "    super().__init__()\n",
        "    self.head_size=n_embd//n_head\n",
        "    self.ffd=FeedForward(n_embd)\n",
        "    self.sa=MultiHeadAttention(n_head,self.head_size)\n",
        "    self.ln1=nn.LayerNorm(n_embd)\n",
        "    self.ln2=nn.LayerNorm(n_embd)\n",
        "\n",
        "  def forward(self,x):\n",
        "    x=x+self.sa(self.ln1(x))\n",
        "    x=x+self.ffd(self.ln2(x))\n",
        "    return x\n"
      ],
      "metadata": {
        "id": "DQKCT28a5vmy"
      },
      "execution_count": null,
      "outputs": []
    },
    {
      "cell_type": "code",
      "source": [
        "class BigramLanguageModel(nn.Module):\n",
        "  def __init__(self):\n",
        "    super().__init__()\n",
        "    #1)make token and positional embeddings\n",
        "    #2)make block for ffd and self attention\n",
        "    #3)final Layer Norm\n",
        "    #4)Linear n_embd to vocab_size\n",
        "    # each token directly reads off the logits for the next token from a lookup table\n",
        "    self.token_embedding_table = nn.Embedding(vocab_size, n_embd)\n",
        "    self.position_embedding_table = nn.Embedding(block_size, n_embd)\n",
        "    self.blocks = nn.Sequential(*[Block(n_embd, n_head=n_head) for _ in range(n_layer)])\n",
        "    self.ln_f = nn.LayerNorm(n_embd) # final layer norm\n",
        "    self.lm_head = nn.Linear(n_embd, vocab_size)\n",
        "\n",
        "  def forward(self, idx, targets=None):\n",
        "      B, T = idx.shape\n",
        "\n",
        "      # idx and targets are both (B,T) tensor of integers\n",
        "      tok_emb = self.token_embedding_table(idx) # (B,T,C)\n",
        "      pos_emb = self.position_embedding_table(torch.arange(T, device=device)) # (T,C)\n",
        "      x = tok_emb + pos_emb # (B,T,C)\n",
        "      x = self.blocks(x) # (B,T,C)\n",
        "      x = self.ln_f(x) # (B,T,C)\n",
        "      logits = self.lm_head(x) # (B,T,vocab_size)\n",
        "\n",
        "      if targets is None:\n",
        "          loss = None\n",
        "      else:\n",
        "          B, T, C = logits.shape\n",
        "          logits = logits.view(B*T, C)\n",
        "          targets = targets.view(B*T)\n",
        "          loss = F.cross_entropy(logits, targets)\n",
        "\n",
        "      return logits, loss\n",
        "\n",
        "  def generate(self, idx, max_new_tokens):\n",
        "        # idx is (B, T) array of indices in the current context\n",
        "        for _ in range(max_new_tokens):\n",
        "            # crop idx to the last block_size tokens\n",
        "            idx_cond = idx[:, -block_size:]\n",
        "            # get the predictions\n",
        "            logits, loss = self(idx_cond)\n",
        "            # focus only on the last time step\n",
        "            logits = logits[:, -1, :] # becomes (B, C)\n",
        "            # apply softmax to get probabilities\n",
        "            probs = F.softmax(logits, dim=-1) # (B, C)\n",
        "            # sample from the distribution\n",
        "            idx_next = torch.multinomial(probs, num_samples=1) # (B, 1)\n",
        "            # append sampled index to the running sequence\n",
        "            idx = torch.cat((idx, idx_next), dim=1) # (B, T+1)\n",
        "        return idx\n"
      ],
      "metadata": {
        "id": "roLrnEPY5yjf"
      },
      "execution_count": null,
      "outputs": []
    },
    {
      "cell_type": "code",
      "source": [
        "model = BigramLanguageModel()\n",
        "m = model.to(device)\n",
        "# print the number of parameters in the model\n",
        "print(sum(p.numel() for p in m.parameters())/1e6, 'M parameters')\n",
        "\n",
        "# create a PyTorch optimizer\n",
        "optimizer = torch.optim.AdamW(model.parameters(), lr=learning_rate)\n",
        "\n",
        "for iter in range(max_iters):\n",
        "\n",
        "    # every once in a while evaluate the loss on train and val sets\n",
        "    if iter % eval_interval == 0 or iter == max_iters - 1:\n",
        "        losses = estimate_loss()\n",
        "        print(f\"step {iter}: train loss {losses['train']:.4f}, val loss {losses['val']:.4f}\")\n",
        "\n",
        "    # sample a batch of data\n",
        "    xb, yb = get_batch('train')\n",
        "\n",
        "    # evaluate the loss\n",
        "    logits, loss = model(xb, yb)\n",
        "    optimizer.zero_grad(set_to_none=True)\n",
        "    loss.backward()\n",
        "    optimizer.step()\n",
        "\n",
        "# generate from the model\n",
        "context = torch.zeros((1, 1), dtype=torch.long, device=device)\n",
        "print(decode(m.generate(context, max_new_tokens=2000)[0].tolist()))\n"
      ],
      "metadata": {
        "id": "AAycJcXf5-BZ",
        "colab": {
          "base_uri": "https://localhost:8080/"
        },
        "outputId": "d14ee51c-5d11-4d32-b764-fa41daa61e39"
      },
      "execution_count": null,
      "outputs": [
        {
          "output_type": "stream",
          "name": "stdout",
          "text": [
            "0.209729 M parameters\n",
            "step 0: train loss 4.3696, val loss 4.3582\n",
            "step 100: train loss 2.6534, val loss 2.6616\n",
            "step 200: train loss 2.5045, val loss 2.5035\n",
            "step 300: train loss 2.4190, val loss 2.4298\n",
            "step 400: train loss 2.3407, val loss 2.3511\n",
            "step 500: train loss 2.2923, val loss 2.3098\n",
            "step 600: train loss 2.2335, val loss 2.2409\n",
            "step 700: train loss 2.1961, val loss 2.2115\n",
            "step 800: train loss 2.1624, val loss 2.1869\n",
            "step 900: train loss 2.1235, val loss 2.1539\n",
            "step 1000: train loss 2.0956, val loss 2.1215\n",
            "step 1100: train loss 2.0711, val loss 2.1236\n",
            "step 1200: train loss 2.0305, val loss 2.0780\n",
            "step 1300: train loss 2.0192, val loss 2.0569\n",
            "step 1400: train loss 1.9867, val loss 2.0362\n",
            "step 1500: train loss 1.9675, val loss 2.0329\n",
            "step 1600: train loss 1.9503, val loss 2.0413\n",
            "step 1700: train loss 1.9372, val loss 2.0151\n",
            "step 1800: train loss 1.9050, val loss 2.0065\n",
            "step 1900: train loss 1.8909, val loss 1.9745\n",
            "step 2000: train loss 1.8672, val loss 1.9863\n",
            "step 2100: train loss 1.8625, val loss 1.9702\n",
            "step 2200: train loss 1.8450, val loss 1.9557\n",
            "step 2300: train loss 1.8363, val loss 1.9455\n",
            "step 2400: train loss 1.8262, val loss 1.9355\n",
            "step 2500: train loss 1.7990, val loss 1.9313\n",
            "step 2600: train loss 1.8088, val loss 1.9335\n",
            "step 2700: train loss 1.7971, val loss 1.9259\n",
            "step 2800: train loss 1.7911, val loss 1.9182\n",
            "step 2900: train loss 1.7841, val loss 1.9191\n",
            "step 3000: train loss 1.7751, val loss 1.9041\n",
            "step 3100: train loss 1.7509, val loss 1.9041\n",
            "step 3200: train loss 1.7375, val loss 1.8979\n",
            "step 3300: train loss 1.7361, val loss 1.8898\n",
            "step 3400: train loss 1.7365, val loss 1.8817\n",
            "step 3500: train loss 1.7208, val loss 1.8771\n",
            "step 3600: train loss 1.7193, val loss 1.8845\n",
            "step 3700: train loss 1.7126, val loss 1.8748\n",
            "step 3800: train loss 1.7039, val loss 1.8817\n",
            "step 3900: train loss 1.7011, val loss 1.8612\n",
            "step 4000: train loss 1.6904, val loss 1.8477\n",
            "step 4100: train loss 1.6963, val loss 1.8660\n",
            "step 4200: train loss 1.6875, val loss 1.8463\n",
            "step 4300: train loss 1.6835, val loss 1.8416\n",
            "step 4400: train loss 1.6906, val loss 1.8453\n",
            "step 4500: train loss 1.6738, val loss 1.8387\n",
            "step 4600: train loss 1.6700, val loss 1.8239\n",
            "step 4700: train loss 1.6622, val loss 1.8259\n",
            "step 4800: train loss 1.6570, val loss 1.8305\n",
            "step 4900: train loss 1.6567, val loss 1.8307\n",
            "step 4999: train loss 1.6498, val loss 1.8120\n",
            "\n",
            "And they bride will to lovest madest,\n",
            "More to take Onder meatita\n",
            "hater bapted wish his barderlanca:\n",
            "Whrome my fears' to zotome\n",
            "Youth-moof is heart mile dillacies if eyes have latistain;\n",
            "Gry Say the long, that just, lelind me up thus wonchiry:\n",
            "Auffiness hiw yet love.\n",
            "I made at lives home you, thou agleon,--\n",
            "And, thering o' matters in The shieves poor\n",
            "The forge the danter, the son; if his shall dyive,\n",
            "Antatisful'd? thy of that but have\n",
            "you amay dapled is grest his busines.\n",
            "\n",
            "And If have have for the never our marrity\n",
            "By Would that\n",
            "beated his me not betwer's madam stroble,\n",
            "What the were one. I much friem:\n",
            "Which might. \n",
            "CLARENCE:\n",
            "My work.\n",
            "\n",
            "LUCIOP ABETH:\n",
            "If Ladmains!\n",
            "\n",
            "KING EDWARD IV:\n",
            "Times in death, a gRare, say, come,\n",
            "Oversun his will hear need our to wanthbeak\n",
            "That fraving with soul visly long'd to so late.\n",
            "\n",
            "Privy, Yorked is brild.\n",
            "\n",
            "KING HENRY Gented Calius\n",
            "He this of timed the now the summe will;\n",
            "Grouss-bent, and, brust this bell marry sold;\n",
            "For fightleward, time to the seeme;\n",
            "To know our Trutche it we seals, If\n",
            "thound where Must too hide privaisa;\n",
            "Than you weet shall dies, mest things sweet worting.\n",
            "\n",
            "GRUFIA:\n",
            "O this fabster, and a bear.\n",
            "\n",
            "HENRY BOLIINCES:\n",
            "You the catters, the an begkely,\n",
            "To me atteliberfuleing breatn the shalt eaven\n",
            "To antog you had's lave,\n",
            "That Turleland therefool; constreass the vown;\n",
            "Madeds Of this ands, he if is caper's lothy doth's all your musts be-daughter vonby,\n",
            "The own, must that sweet measter:\n",
            "Andure om Three tender theled.\n",
            "\n",
            "RICHAM:\n",
            "He come of Roldier,\n",
            "Thing will knows; and plown, say, as;\n",
            "Rives thouk virtace Fright.\n",
            "\n",
            "POLANUS:\n",
            "Hereful\n",
            "Out, sail I geven courter? on myself his\n",
            "freithly like thy seems rishn. The lights I, give, the couft his in oath o' no, Gother.\n",
            "\n",
            "COMIOLANUS:\n",
            "In:\n",
            "But whels, go with the Edwraces of the hark, lives lord.\n",
            "\n",
            "DUKE VOLIO:\n",
            "What's on Bolion, at but I like instreliful, 'tword woulds to thee,\n",
            "Of Sath morstens yout your more thy awons\n",
            "Throngar at welcome to, Jurest patient:\n",
            "In is shave'ed good his supper her;\n",
            "he working's u\n"
          ]
        }
      ]
    },
    {
      "cell_type": "code",
      "source": [
        "mat=torch.randn(3,3,64)"
      ],
      "metadata": {
        "id": "tMDsJcMXl2G9"
      },
      "execution_count": null,
      "outputs": []
    },
    {
      "cell_type": "code",
      "source": [
        "n_embd"
      ],
      "metadata": {
        "colab": {
          "base_uri": "https://localhost:8080/"
        },
        "id": "KWxoNIXamWiR",
        "outputId": "a6c307c1-e860-41b8-93cd-290c9a7e7a6c"
      },
      "execution_count": null,
      "outputs": [
        {
          "output_type": "execute_result",
          "data": {
            "text/plain": [
              "64"
            ]
          },
          "metadata": {},
          "execution_count": 115
        }
      ]
    },
    {
      "cell_type": "code",
      "source": [
        "mo=Headder(5)"
      ],
      "metadata": {
        "id": "_RbfAMICmX2m"
      },
      "execution_count": null,
      "outputs": []
    },
    {
      "cell_type": "code",
      "source": [
        "r=mo.key(mat)"
      ],
      "metadata": {
        "id": "Bldgv9AZmeIF"
      },
      "execution_count": null,
      "outputs": []
    },
    {
      "cell_type": "code",
      "source": [
        "n_embd // n_head"
      ],
      "metadata": {
        "colab": {
          "base_uri": "https://localhost:8080/"
        },
        "id": "xGEkAUJ_m2Az",
        "outputId": "4ce8fd66-0cc0-4220-c249-d07cafc57e76"
      },
      "execution_count": null,
      "outputs": [
        {
          "output_type": "execute_result",
          "data": {
            "text/plain": [
              "16"
            ]
          },
          "metadata": {},
          "execution_count": 118
        }
      ]
    },
    {
      "cell_type": "code",
      "source": [],
      "metadata": {
        "id": "hkXvkyrRnNLs"
      },
      "execution_count": null,
      "outputs": []
    }
  ]
}